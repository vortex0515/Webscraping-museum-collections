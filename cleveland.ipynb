{
  "cells": [
    {
      "cell_type": "code",
      "execution_count": null,
      "metadata": {
        "vscode": {
          "languageId": "plaintext"
        }
      },
      "outputs": [],
      "source": [
        "#I am a foolish person\n",
        "#include<bits/stdc++.h>\n",
        "\n",
        "using namespace std;\n",
        "\n",
        "int main()\n",
        "{\n",
        "    int t; cin >> t;\n",
        "    while(t--)\n",
        "    {\n",
        "        int n; cin >> n;\n",
        "        vector<int> a(n);\n",
        "        for(int i =0; i<n; i++)\n",
        "        {\n",
        "            cin >> a[i];\n",
        "        }\n",
        "        int mini = INT_MAX;\n",
        "        for(int i=0; i<n-1; i++)\n",
        "        {\n",
        "            int maxi = max(a[i],a[i+1]);\n",
        "            mini = min(mini, maxi);\n",
        "        }\n",
        "        cout << mini - 1<< endl;\n",
        "    }\n",
        "    \n",
        "}\n"
      ]
    }
  ],
  "metadata": {
    "colab": {
      "provenance": []
    },
    "kernelspec": {
      "display_name": "Python 3",
      "name": "python3"
    },
    "language_info": {
      "name": "python"
    }
  },
  "nbformat": 4,
  "nbformat_minor": 0
}
